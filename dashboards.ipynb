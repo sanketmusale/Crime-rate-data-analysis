{
 "cells": [
  {
   "cell_type": "code",
   "execution_count": 3,
   "id": "d64702c3",
   "metadata": {},
   "outputs": [],
   "source": [
    "import pandas as pd\n",
    "import matplotlib.pyplot as plt\n",
    "import seaborn as sns\n",
    "import dash\n",
    "from dash import html, dcc\n",
    "from dash.dependencies import Input, Output\n"
   ]
  },
  {
   "cell_type": "code",
   "execution_count": 1,
   "id": "87756356",
   "metadata": {
    "scrolled": true
   },
   "outputs": [
    {
     "data": {
      "text/html": [
       "\n",
       "        <iframe\n",
       "            width=\"100%\"\n",
       "            height=\"650\"\n",
       "            src=\"http://127.0.0.1:8050/\"\n",
       "            frameborder=\"0\"\n",
       "            allowfullscreen\n",
       "            \n",
       "        ></iframe>\n",
       "        "
      ],
      "text/plain": [
       "<IPython.lib.display.IFrame at 0x22563f11b80>"
      ]
     },
     "metadata": {},
     "output_type": "display_data"
    }
   ],
   "source": [
    "import pandas as pd\n",
    "import matplotlib.pyplot as plt\n",
    "import seaborn as sns\n",
    "import dash\n",
    "from dash import html, dcc\n",
    "from dash.dependencies import Input, Output\n",
    "import numpy as np\n",
    "\n",
    "# Load your dataset\n",
    "data = pd.read_csv('crime.csv', encoding='iso-8859-1',low_memory=False)\n",
    "\n",
    "# Initialize the Dash app\n",
    "app = dash.Dash(__name__)\n",
    "\n",
    "# Define the layout\n",
    "app.layout = html.Div(children=[\n",
    "    html.H1(\"Crime Dashboard\"),\n",
    "\n",
    "    # Dropdown for chart selection\n",
    "    dcc.Dropdown(\n",
    "        id='chart-dropdown',\n",
    "        options=[\n",
    "            {'label': 'Crime by Group', 'value': 'crime-by-group'},\n",
    "            {'label': 'Crime by Hour', 'value': 'crime-by-hour'},\n",
    "            {'label': 'Crime by Day', 'value': 'crime-by-day'},\n",
    "            {'label': 'Crime by Month', 'value': 'crime-by-month'}\n",
    "        ],\n",
    "        value='crime-by-group',  # Default chart to display\n",
    "        style={'width': '50%'}  # Adjust width as needed\n",
    "    ),\n",
    "\n",
    "    # Placeholder for the selected chart\n",
    "    dcc.Graph(id='selected-chart'),\n",
    "])\n",
    "\n",
    "# Callback to update the chart based on the selected dropdown value\n",
    "@app.callback(\n",
    "    Output('selected-chart', 'figure'),\n",
    "    [Input('chart-dropdown', 'value')]\n",
    ")\n",
    "def update_chart(selected_chart):\n",
    "    # Logic to generate the selected chart\n",
    "    if selected_chart == 'crime-by-group':\n",
    "        chart_data = {'x': data['OFFENSE_CODE_GROUP'].value_counts().index,\n",
    "                      'y': data['OFFENSE_CODE_GROUP'].value_counts().values,\n",
    "                      'type': 'bar',\n",
    "                      'name': 'Crime by Group'}\n",
    "        layout = {'title': 'Crime by Group',\n",
    "                  'xaxis': {'title': 'Group'},\n",
    "                  'yaxis': {'title': 'Count'}}\n",
    "    elif selected_chart == 'crime-by-hour':\n",
    "        chart_data = {'x': data['HOUR'].value_counts().index,'y': data['HOUR'].value_counts().values, 'type': 'bar', 'name': 'Crime by Hour', 'marker': {'color': 'blue'}}\n",
    "        layout = {'title': 'Crime by Hour',\n",
    "                  'xaxis': {'title': 'Hour'},\n",
    "                  'yaxis': {'title': 'Count'}}\n",
    "        \n",
    "    elif selected_chart == 'crime-by-day':\n",
    "        chart_data = {'x': data['DAY_OF_WEEK'].value_counts().index,'y': data['DAY_OF_WEEK'].value_counts().values, 'type': 'bar', 'name': 'Crime by Day'}\n",
    "            \n",
    "        layout =  {'title': 'Crime by Day','xaxis': {'title': 'Day'},'yaxis': {'title': 'Count'}}\n",
    "        \n",
    "    elif selected_chart == 'crime-by-month':\n",
    "        chart_data = {'x': data['MONTH'].value_counts().index,'y': data['MONTH'].value_counts().values, 'type': 'bar', 'name': 'Crime by Month', 'marker': {'color': 'red'}}\n",
    "        layout =  {'title': 'Crime by Month','xaxis': {'title': 'Month'},'yaxis': {'title': 'Count'}}\n",
    "        \n",
    "    \n",
    "    \n",
    "\n",
    "    return {'data': [chart_data], 'layout': layout}\n",
    "\n",
    "if __name__ == '__main__':\n",
    "    app.run_server(debug=True)\n"
   ]
  },
  {
   "cell_type": "code",
   "execution_count": 5,
   "id": "b7114c46",
   "metadata": {},
   "outputs": [],
   "source": []
  },
  {
   "cell_type": "code",
   "execution_count": 6,
   "id": "4a0553aa",
   "metadata": {},
   "outputs": [],
   "source": []
  },
  {
   "cell_type": "code",
   "execution_count": 7,
   "id": "933142bc",
   "metadata": {},
   "outputs": [],
   "source": []
  },
  {
   "cell_type": "code",
   "execution_count": null,
   "id": "2cfaa1ac",
   "metadata": {},
   "outputs": [],
   "source": []
  },
  {
   "cell_type": "code",
   "execution_count": null,
   "id": "0e9776de",
   "metadata": {},
   "outputs": [],
   "source": []
  },
  {
   "cell_type": "code",
   "execution_count": null,
   "id": "8dcc07a0",
   "metadata": {},
   "outputs": [],
   "source": []
  },
  {
   "cell_type": "code",
   "execution_count": null,
   "id": "55b06258",
   "metadata": {},
   "outputs": [],
   "source": []
  },
  {
   "cell_type": "code",
   "execution_count": null,
   "id": "f6d210ad",
   "metadata": {},
   "outputs": [],
   "source": []
  },
  {
   "cell_type": "code",
   "execution_count": null,
   "id": "a84c8ee3",
   "metadata": {},
   "outputs": [],
   "source": []
  }
 ],
 "metadata": {
  "kernelspec": {
   "display_name": "Python 3 (ipykernel)",
   "language": "python",
   "name": "python3"
  },
  "language_info": {
   "codemirror_mode": {
    "name": "ipython",
    "version": 3
   },
   "file_extension": ".py",
   "mimetype": "text/x-python",
   "name": "python",
   "nbconvert_exporter": "python",
   "pygments_lexer": "ipython3",
   "version": "3.9.12"
  }
 },
 "nbformat": 4,
 "nbformat_minor": 5
}
